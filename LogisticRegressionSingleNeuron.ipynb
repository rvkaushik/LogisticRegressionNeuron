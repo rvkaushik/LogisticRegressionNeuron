{
 "cells": [
  {
   "cell_type": "markdown",
   "metadata": {},
   "source": [
    "single neuron design\n",
    "input = matrix (n,m)\n",
    "output = list of binary 0 or 1\n",
    "w = weights (matrix of size x)\n",
    "b = const size x\n",
    "y = wx+b\n",
    "activatioon = sigmoid , tanh,relu "
   ]
  },
  {
   "cell_type": "code",
   "execution_count": 1,
   "metadata": {},
   "outputs": [],
   "source": [
    "import numpy as np"
   ]
  },
  {
   "cell_type": "code",
   "execution_count": 24,
   "metadata": {},
   "outputs": [],
   "source": [
    "def relu (x):\n",
    "    return np.maximum(0,x)"
   ]
  },
  {
   "cell_type": "code",
   "execution_count": 45,
   "metadata": {},
   "outputs": [],
   "source": [
    "def tanh (x):\n",
    "    return (np.exp(x)-np.exp(-x))/(np.exp(x)+np.exp(-x))"
   ]
  },
  {
   "cell_type": "code",
   "execution_count": 46,
   "metadata": {},
   "outputs": [],
   "source": [
    "def sigmoid (x):\n",
    "    return 1/(1+np.exp(-x)) "
   ]
  },
  {
   "cell_type": "code",
   "execution_count": 109,
   "metadata": {},
   "outputs": [
    {
     "name": "stdout",
     "output_type": "stream",
     "text": [
      "(3, 2)\n"
     ]
    }
   ],
   "source": [
    "x=np.array([[1,2],[7,2],[100,5]])\n",
    "y=np.array([[1,2,3]])\n",
    "print (x.shape)"
   ]
  },
  {
   "cell_type": "code",
   "execution_count": 319,
   "metadata": {},
   "outputs": [],
   "source": [
    "def intialize_w_b(x):\n",
    "    m=x.shape[0]\n",
    "    w=np.random.randn(m,1)\n",
    "    b=np.zeros((m,1))\n",
    "    #print (w.shape ,\" w in init\")\n",
    "    #print (x.shape,\" x in init\")\n",
    "    return w,b"
   ]
  },
  {
   "cell_type": "code",
   "execution_count": 320,
   "metadata": {},
   "outputs": [
    {
     "name": "stdout",
     "output_type": "stream",
     "text": [
      "(5, 1)\n"
     ]
    }
   ],
   "source": [
    "w, b, X, Y = np.array([[1.],[2.]]), 2., np.array([[1.,2.,-1.],[3.,4.,-3.2]]), np.array([[1,0,1]])\n",
    "#print (w.shape)\n",
    "#print (b.shape)\n",
    "#print (X.shape)\n",
    "#print (Y.shape)\n",
    "#print (np.dot(w.T,X))\n",
    "x_train=np.array([[2],[6],[4],[5],[7]])\n",
    "y_train=np.array([[0,1,0,1,1]])\n",
    "print (x_train.shape)\n",
    "intialize_w_b(x_train)\n",
    "x_test=np.array([[20.],[15.]])\n",
    "y_test=np.array([[1,1]])\n"
   ]
  },
  {
   "cell_type": "code",
   "execution_count": 321,
   "metadata": {},
   "outputs": [],
   "source": [
    "w,b=intialize_w_b(x)"
   ]
  },
  {
   "cell_type": "code",
   "execution_count": 322,
   "metadata": {},
   "outputs": [],
   "source": [
    "def propagate(w,b,x,y):\n",
    "    m=len(x[0])\n",
    "    #forward\n",
    "    a=sigmoid(np.dot(w.T,x)+b)\n",
    "  \n",
    "    cost=-(np.dot(y,np.log(a.T))+np.dot((1-y),np.log(1-a.T)))/m\n",
    "    cost=cost[0][0]\n",
    "    #print (cost)\n",
    "    #backward\n",
    "    dw=np.dot(x,(a-y).T)/m\n",
    "    db=np.sum(a-y)/m\n",
    "    parameters={\n",
    "        \"dw\":dw,\n",
    "        \"db\":db\n",
    "    }\n",
    "    #print (w.shape ,\" w in propagate\")\n",
    "    #print (x.shape,\" x in propagate\")\n",
    "    #print (y.shape ,\" y in propagate\")\n",
    "    #print (b.shape,\" b in propagate\")\n",
    "    return parameters,cost"
   ]
  },
  {
   "cell_type": "code",
   "execution_count": 323,
   "metadata": {},
   "outputs": [
    {
     "name": "stdout",
     "output_type": "stream",
     "text": [
      "dw = [[0.99845601]\n",
      " [2.39507239]]\n",
      "db = 0.001455578136784208\n",
      "cost = 5.801545319394553\n"
     ]
    }
   ],
   "source": [
    "w, b, X, Y = np.array([[1.],[2.]]), 2., np.array([[1.,2.,-1.],[3.,4.,-3.2]]), np.array([[1,0,1]])\n",
    "grads, cost = propagate(w, b, X, Y)\n",
    "print (\"dw = \" + str(grads[\"dw\"]))\n",
    "print (\"db = \" + str(grads[\"db\"]))\n",
    "print (\"cost = \" + str(cost))"
   ]
  },
  {
   "cell_type": "code",
   "execution_count": 324,
   "metadata": {},
   "outputs": [],
   "source": [
    "def optimise(w,b,x,y,iterations,learning_rate):\n",
    "    costs=[]\n",
    "    ws=[]\n",
    "    bs=[]\n",
    "    for i in range (iterations):\n",
    "        parameters,cost=propagate(w,b,x,y)\n",
    "        dw=parameters[\"dw\"]\n",
    "        db=parameters[\"db\"]\n",
    "        w=w-learning_rate*dw\n",
    "        b=b-learning_rate*db\n",
    "        costs.append(cost)\n",
    "        ws.append(w)\n",
    "        bs.append(b)\n",
    "    \n",
    "    param={\n",
    "        \"w\":w,\n",
    "        \"b\":b\n",
    "    }\n",
    "    grads={\n",
    "        \"dw\":dw,\n",
    "        \"db\":db\n",
    "    }\n",
    "    #print (w.shape ,\" w in optimise\")\n",
    "    #print (x.shape,\" x in optimise\")\n",
    "    #print (y.shape,\" y in optimise\")\n",
    "    return param,grads,costs\n",
    "        "
   ]
  },
  {
   "cell_type": "code",
   "execution_count": 325,
   "metadata": {},
   "outputs": [
    {
     "name": "stdout",
     "output_type": "stream",
     "text": [
      "(2, 3)\n"
     ]
    }
   ],
   "source": [
    "w, b, X, Y = np.array([[1.],[2.]]), 2., np.array([[1.,2.,-1.],[3.,4.,-3.2]]), np.array([[1,0,1]])\n",
    "print (X.shape)"
   ]
  },
  {
   "cell_type": "code",
   "execution_count": 326,
   "metadata": {},
   "outputs": [
    {
     "name": "stdout",
     "output_type": "stream",
     "text": [
      "w = [[0.19033591]\n",
      " [0.12259159]]\n",
      "b = 1.9253598300845747\n",
      "dw = [[0.67752042]\n",
      " [1.41625495]]\n",
      "db = 0.21919450454067657\n",
      "(2, 1)\n"
     ]
    }
   ],
   "source": [
    "params, grads, costs = optimise(w, b, X, Y, iterations=100,learning_rate=.009)\n",
    "\n",
    "print (\"w = \" + str(params[\"w\"]))\n",
    "print (\"b = \" + str(params[\"b\"]))\n",
    "print (\"dw = \" + str(grads[\"dw\"]))\n",
    "print (\"db = \" + str(grads[\"db\"]))\n",
    "print (w.shape)"
   ]
  },
  {
   "cell_type": "code",
   "execution_count": 327,
   "metadata": {},
   "outputs": [
    {
     "name": "stdout",
     "output_type": "stream",
     "text": [
      "[[0.19033591]\n",
      " [0.12259159]] 1.9253598300845747\n"
     ]
    }
   ],
   "source": [
    "print (params[\"w\"],params[\"b\"])"
   ]
  },
  {
   "cell_type": "code",
   "execution_count": 328,
   "metadata": {},
   "outputs": [],
   "source": [
    "def  predict(w,b,x):\n",
    "   \n",
    "    m = x.shape[1]\n",
    "    #print (\"wwwwww in predict\",w.shape)\n",
    "    #print (\"bbbb\",b.shape)\n",
    "    #print (\"xxxx in predict\",x.shape)\n",
    "    #print (\"mmmm in predict\",m)\n",
    "    Y_prediction = np.zeros((1,m))\n",
    "    #w = w.reshape(X.shape[0], 1)\n",
    "    A = sigmoid(np.dot(w.T,x)+b)\n",
    "    for i in range(A.shape[1]):\n",
    "        if A[0][i]<=.5:\n",
    "            Y_prediction[0][i]=0\n",
    "        else:\n",
    "            Y_prediction[0][i]=1\n",
    "    return Y_prediction"
   ]
  },
  {
   "cell_type": "code",
   "execution_count": 329,
   "metadata": {},
   "outputs": [
    {
     "name": "stdout",
     "output_type": "stream",
     "text": [
      "[[1. 1. 1.]]\n"
     ]
    }
   ],
   "source": [
    "X = np.array([[1.,-1.1,-3.2],[1.2,2.,0.1]])\n",
    "print (predict(params[\"w\"],params[\"b\"],X))\n"
   ]
  },
  {
   "cell_type": "code",
   "execution_count": 334,
   "metadata": {},
   "outputs": [],
   "source": [
    "def create_model(X_train, Y_train, X_test, Y_test, num_iterations = 1000, learning_rate = 0.5):\n",
    "    #initialise wieghts and b\n",
    "    w,b = intialize_w_b(X_train)\n",
    "    #propagate and compute cost and gradient desent\n",
    "    params, grads, costs = optimise(w, b, X_train, Y_train, iterations=100,learning_rate=.009)\n",
    "    w=params[\"w\"]\n",
    "    b=params[\"b\"]\n",
    "    #predict\n",
    "    Y_prediction_test = predict(w, b, X_test)\n",
    "    Y_prediction_train = predict(w, b, X_train)\n",
    "    print(\"train accuracy: {} %\".format(100 - np.mean(np.abs(Y_prediction_train - Y_train)) * 100))\n",
    "    print(\"test accuracy: {} %\".format(100 - np.mean(np.abs(Y_prediction_test - Y_test)) * 100))\n",
    "\n",
    "    \n",
    "    d = {\"costs\": costs,\n",
    "         \"Y_prediction_test\": Y_prediction_test, \n",
    "         \"Y_prediction_train\" : Y_prediction_train, \n",
    "         \"w\" : w, \n",
    "         \"b\" : b,\n",
    "         \"learning_rate\" : learning_rate,\n",
    "         \"num_iterations\": num_iterations}\n",
    "    #print (w.shape ,\" w in create\")\n",
    "    #print (x.shape,\" x in create\")\n",
    "    #print (y.shape,\" y in create\")\n",
    "    return d\n",
    "    "
   ]
  },
  {
   "cell_type": "code",
   "execution_count": 335,
   "metadata": {},
   "outputs": [],
   "source": [
    "x_test=np.array([[1.,5.,-6.],[5.,2.,-3.8]])\n",
    "y_test=np.array([[0,0,1]])\n",
    "\n",
    "\n",
    "X, Y = np.array([[1.,2.,-1.],[3.,4.,-3.2]]), np.array([[1,0,1]])"
   ]
  },
  {
   "cell_type": "code",
   "execution_count": 337,
   "metadata": {},
   "outputs": [
    {
     "name": "stdout",
     "output_type": "stream",
     "text": [
      "train accuracy: 66.66666666666667 %\n",
      "test accuracy: 100.0 %\n"
     ]
    }
   ],
   "source": [
    "d = create_model(X, Y, x_test, y_test, num_iterations = 2000, learning_rate = 0.005)"
   ]
  },
  {
   "cell_type": "code",
   "execution_count": null,
   "metadata": {},
   "outputs": [],
   "source": []
  },
  {
   "cell_type": "code",
   "execution_count": null,
   "metadata": {},
   "outputs": [],
   "source": []
  }
 ],
 "metadata": {
  "kernelspec": {
   "display_name": "Python 3",
   "language": "python",
   "name": "python3"
  },
  "language_info": {
   "codemirror_mode": {
    "name": "ipython",
    "version": 3
   },
   "file_extension": ".py",
   "mimetype": "text/x-python",
   "name": "python",
   "nbconvert_exporter": "python",
   "pygments_lexer": "ipython3",
   "version": "3.6.5"
  }
 },
 "nbformat": 4,
 "nbformat_minor": 2
}
